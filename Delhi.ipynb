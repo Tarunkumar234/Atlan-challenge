{
 "cells": [
  {
   "cell_type": "markdown",
   "metadata": {},
   "source": [
    "# Collecting POI data of a city"
   ]
  },
  {
   "cell_type": "code",
   "execution_count": 1,
   "metadata": {},
   "outputs": [],
   "source": [
    "import overpy\n",
    "import pandas as pd"
   ]
  },
  {
   "cell_type": "markdown",
   "metadata": {},
   "source": [
    "overpy is to overpass API "
   ]
  },
  {
   "cell_type": "markdown",
   "metadata": {},
   "source": [
    "### Define a dictionary to store fetched POI data"
   ]
  },
  {
   "cell_type": "code",
   "execution_count": 5,
   "metadata": {},
   "outputs": [],
   "source": [
    "data = {\"id\":[] , \"category\":[], \"sub_category\":[], \"lat\":[], \"lon\":[] }"
   ]
  },
  {
   "cell_type": "markdown",
   "metadata": {},
   "source": [
    "### Define some functions to automate the fetching POI data from OverpassAPI"
   ]
  },
  {
   "cell_type": "code",
   "execution_count": 6,
   "metadata": {},
   "outputs": [],
   "source": [
    "def add_data(category, sub_category, ways):\n",
    "    for way in ways:\n",
    "        data[\"id\"].append(way.id)\n",
    "        data[\"category\"].append(category)\n",
    "        data[\"sub_category\"].append(sub_category)\n",
    "        data[\"lat\"].append(float(way.center_lat))\n",
    "        data[\"lon\"].append(float(way.center_lon))"
   ]
  },
  {
   "cell_type": "markdown",
   "metadata": {},
   "source": [
    "###   Helper function to create query string"
   ]
  },
  {
   "cell_type": "code",
   "execution_count": 7,
   "metadata": {},
   "outputs": [],
   "source": [
    "def get_query_string(key, value=None, city=\"Delhi\"):\n",
    "    if value is None:\n",
    "        query_string = f\"\"\"\n",
    "        [out:json];\n",
    "        area[name=\"{city}\"];\n",
    "        way[\"{key}\"](area);\n",
    "        out center;    \n",
    "    \"\"\"\n",
    "    else:\n",
    "        query_string = f\"\"\"\n",
    "            [out:json];\n",
    "            area[name=\"{city}\"];\n",
    "            way[\"{key}\"=\"{value}\"](area);\n",
    "            out center;    \n",
    "        \"\"\"\n",
    "        \n",
    "    return query_string     "
   ]
  },
  {
   "cell_type": "markdown",
   "metadata": {},
   "source": [
    "### Custom Function to call OverpassAPI\n",
    "    "
   ]
  },
  {
   "cell_type": "code",
   "execution_count": 8,
   "metadata": {},
   "outputs": [],
   "source": [
    "def api_call(key, category=\"\", value_list= None, value=None, city=\"Delhi\"):\n",
    "    api = overpy.Overpass()\n",
    "    \n",
    "    if value_list is not None:\n",
    "        for val in value_list:\n",
    "            query_string = get_query_string(key=key, value=val, city=city)\n",
    "            result = api.query(query_string)\n",
    "            add_data(category, val, result.ways)\n",
    "    elif value is not None:\n",
    "        get_query_string(key, value, city)\n",
    "        result = api.query(query_string)\n",
    "        add_data(category, key, result.ways)\n",
    "    else:\n",
    "        query_string = get_query_string(key=key, city=city)\n",
    "        result = api.query(query_string)\n",
    "        add_data(category, key, result.ways)"
   ]
  },
  {
   "cell_type": "markdown",
   "metadata": {},
   "source": [
    "### Fetch all POIs related to their category"
   ]
  },
  {
   "cell_type": "code",
   "execution_count": 9,
   "metadata": {},
   "outputs": [
    {
     "data": {
      "text/plain": [
       "31"
      ]
     },
     "execution_count": 9,
     "metadata": {},
     "output_type": "execute_result"
    }
   ],
   "source": [
    "# Sustenance\n",
    "sustenance = [\"bar\", \"bbq\", \"cafe\", \"biergarten\", \"fast_food\", \"food_court\", \"pub\", \"restaurant\", \"ice_cream\"]\n",
    "api_call(key=\"amenity\", category=\"sustenance\", value_list=sustenance)\n",
    "len(data[\"id\"])"
   ]
  },
  {
   "cell_type": "code",
   "execution_count": 10,
   "metadata": {},
   "outputs": [
    {
     "data": {
      "text/plain": [
       "736"
      ]
     },
     "execution_count": 10,
     "metadata": {},
     "output_type": "execute_result"
    }
   ],
   "source": [
    "# Education\n",
    "education = [\"college\", \"school\", \"university\", \"library\", \"language_school\", \"kindergarten\"]\n",
    "api_call(key=\"amenity\", category=\"education\", value_list=education)\n",
    "len(data[\"id\"])"
   ]
  },
  {
   "cell_type": "code",
   "execution_count": 11,
   "metadata": {},
   "outputs": [
    {
     "data": {
      "text/plain": [
       "758"
      ]
     },
     "execution_count": 11,
     "metadata": {},
     "output_type": "execute_result"
    }
   ],
   "source": [
    "# Entertainment\n",
    "entertainment = [\"arts_centre\", \"casino\", \"cinema\", \"communtity_centre\", \"gambling\", \"nightclub\", \"planetarium\", \"theater\"]\n",
    "api_call(key=\"amenity\", category=\"entertainment\", value_list=entertainment)\n",
    "len(data[\"id\"])"
   ]
  },
  {
   "cell_type": "code",
   "execution_count": 12,
   "metadata": {},
   "outputs": [
    {
     "data": {
      "text/plain": [
       "868"
      ]
     },
     "execution_count": 12,
     "metadata": {},
     "output_type": "execute_result"
    }
   ],
   "source": [
    "# Healthcare\n",
    "healthcare = [\"hospital\", \"clinic\", \"nursing_home\", \"pharmacy\", \"veterinary\", \"doctors\", \"dentist\"]\n",
    "api_call(key=\"amenity\", category=\"healthcare\", value_list=healthcare)\n",
    "len(data[\"id\"])"
   ]
  },
  {
   "cell_type": "code",
   "execution_count": 13,
   "metadata": {},
   "outputs": [
    {
     "data": {
      "text/plain": [
       "3161"
      ]
     },
     "execution_count": 13,
     "metadata": {},
     "output_type": "execute_result"
    }
   ],
   "source": [
    "# Accomodation\n",
    "accomodation = [\"apartments\", \"bunglow\", \"dormitory\", \"house\", \"residential\"]\n",
    "api_call(key=\"building\", category=\"accomodation\", value_list=accomodation)\n",
    "len(data[\"id\"])"
   ]
  },
  {
   "cell_type": "code",
   "execution_count": 16,
   "metadata": {},
   "outputs": [
    {
     "data": {
      "text/plain": [
       "4011"
      ]
     },
     "execution_count": 16,
     "metadata": {},
     "output_type": "execute_result"
    }
   ],
   "source": [
    "# Commercial\n",
    "commercial = [\"commercial\", \"industrial\",\"office\", \"retail\", \"supermarket\"]\n",
    "api_call(key=\"building\", category=\"commercial\", value_list=commercial)\n",
    "len(data[\"id\"])"
   ]
  },
  {
   "cell_type": "code",
   "execution_count": 20,
   "metadata": {},
   "outputs": [
    {
     "data": {
      "text/plain": [
       "4055"
      ]
     },
     "execution_count": 20,
     "metadata": {},
     "output_type": "execute_result"
    }
   ],
   "source": [
    "# Religious\n",
    "religious = [\"church\", \"mosque\", \"temple\"]\n",
    "api_call(key=\"building\", category=\"religious\", value_list=religious)\n",
    "len(data[\"id\"])"
   ]
  },
  {
   "cell_type": "code",
   "execution_count": 21,
   "metadata": {},
   "outputs": [
    {
     "data": {
      "text/plain": [
       "4064"
      ]
     },
     "execution_count": 21,
     "metadata": {},
     "output_type": "execute_result"
    }
   ],
   "source": [
    "# Agriculture\n",
    "agriculture = [\"barn\", \"conservatory\", \"cowshed\", \"farm_auxiliary\", \"greenhouse\", \"stable\", \"sty\"]\n",
    "api_call(key=\"building\", category=\"agriculture\", value_list=agriculture)\n",
    "len(data[\"id\"])"
   ]
  },
  {
   "cell_type": "code",
   "execution_count": 22,
   "metadata": {},
   "outputs": [
    {
     "data": {
      "text/plain": [
       "4199"
      ]
     },
     "execution_count": 22,
     "metadata": {},
     "output_type": "execute_result"
    }
   ],
   "source": [
    "# Historic\n",
    "api_call(key=\"historic\", category=\"historic\")\n",
    "len(data[\"id\"])"
   ]
  },
  {
   "cell_type": "code",
   "execution_count": 23,
   "metadata": {},
   "outputs": [
    {
     "data": {
      "text/plain": [
       "4353"
      ]
     },
     "execution_count": 23,
     "metadata": {},
     "output_type": "execute_result"
    }
   ],
   "source": [
    "# Tourism\n",
    "api_call(key=\"tourism\", category=\"tourism\")\n",
    "len(data[\"id\"])"
   ]
  },
  {
   "cell_type": "markdown",
   "metadata": {},
   "source": [
    "### Creating dataframe to store all POI data"
   ]
  },
  {
   "cell_type": "code",
   "execution_count": 24,
   "metadata": {},
   "outputs": [
    {
     "name": "stdout",
     "output_type": "stream",
     "text": [
      "<class 'pandas.core.frame.DataFrame'>\n",
      "RangeIndex: 4353 entries, 0 to 4352\n",
      "Data columns (total 5 columns):\n",
      "id              4353 non-null int64\n",
      "category        4353 non-null object\n",
      "sub_category    4353 non-null object\n",
      "lat             4353 non-null float64\n",
      "lon             4353 non-null float64\n",
      "dtypes: float64(2), int64(1), object(2)\n",
      "memory usage: 170.1+ KB\n"
     ]
    }
   ],
   "source": [
    "df = pd.DataFrame(data)\n",
    "df.info()"
   ]
  },
  {
   "cell_type": "code",
   "execution_count": 25,
   "metadata": {},
   "outputs": [
    {
     "data": {
      "text/html": [
       "<div>\n",
       "<style scoped>\n",
       "    .dataframe tbody tr th:only-of-type {\n",
       "        vertical-align: middle;\n",
       "    }\n",
       "\n",
       "    .dataframe tbody tr th {\n",
       "        vertical-align: top;\n",
       "    }\n",
       "\n",
       "    .dataframe thead th {\n",
       "        text-align: right;\n",
       "    }\n",
       "</style>\n",
       "<table border=\"1\" class=\"dataframe\">\n",
       "  <thead>\n",
       "    <tr style=\"text-align: right;\">\n",
       "      <th></th>\n",
       "      <th>id</th>\n",
       "      <th>category</th>\n",
       "      <th>sub_category</th>\n",
       "      <th>lat</th>\n",
       "      <th>lon</th>\n",
       "    </tr>\n",
       "  </thead>\n",
       "  <tbody>\n",
       "    <tr>\n",
       "      <th>0</th>\n",
       "      <td>352253821</td>\n",
       "      <td>sustenance</td>\n",
       "      <td>bar</td>\n",
       "      <td>28.665502</td>\n",
       "      <td>77.302875</td>\n",
       "    </tr>\n",
       "    <tr>\n",
       "      <th>1</th>\n",
       "      <td>154110068</td>\n",
       "      <td>sustenance</td>\n",
       "      <td>cafe</td>\n",
       "      <td>28.594870</td>\n",
       "      <td>77.018324</td>\n",
       "    </tr>\n",
       "    <tr>\n",
       "      <th>2</th>\n",
       "      <td>252334020</td>\n",
       "      <td>sustenance</td>\n",
       "      <td>cafe</td>\n",
       "      <td>28.559042</td>\n",
       "      <td>77.283511</td>\n",
       "    </tr>\n",
       "    <tr>\n",
       "      <th>3</th>\n",
       "      <td>311711702</td>\n",
       "      <td>sustenance</td>\n",
       "      <td>cafe</td>\n",
       "      <td>37.430555</td>\n",
       "      <td>-120.777042</td>\n",
       "    </tr>\n",
       "    <tr>\n",
       "      <th>4</th>\n",
       "      <td>340381516</td>\n",
       "      <td>sustenance</td>\n",
       "      <td>cafe</td>\n",
       "      <td>28.549631</td>\n",
       "      <td>77.167901</td>\n",
       "    </tr>\n",
       "  </tbody>\n",
       "</table>\n",
       "</div>"
      ],
      "text/plain": [
       "          id    category sub_category        lat         lon\n",
       "0  352253821  sustenance          bar  28.665502   77.302875\n",
       "1  154110068  sustenance         cafe  28.594870   77.018324\n",
       "2  252334020  sustenance         cafe  28.559042   77.283511\n",
       "3  311711702  sustenance         cafe  37.430555 -120.777042\n",
       "4  340381516  sustenance         cafe  28.549631   77.167901"
      ]
     },
     "execution_count": 25,
     "metadata": {},
     "output_type": "execute_result"
    }
   ],
   "source": [
    "df.head()"
   ]
  },
  {
   "cell_type": "code",
   "execution_count": 26,
   "metadata": {},
   "outputs": [
    {
     "data": {
      "text/plain": [
       "(4353, 5)"
      ]
     },
     "execution_count": 26,
     "metadata": {},
     "output_type": "execute_result"
    }
   ],
   "source": [
    "df.shape"
   ]
  },
  {
   "cell_type": "markdown",
   "metadata": {},
   "source": [
    "### Removing duplicates rows based on their IDs"
   ]
  },
  {
   "cell_type": "code",
   "execution_count": 27,
   "metadata": {},
   "outputs": [
    {
     "data": {
      "text/plain": [
       "(3562, 5)"
      ]
     },
     "execution_count": 27,
     "metadata": {},
     "output_type": "execute_result"
    }
   ],
   "source": [
    "df.drop_duplicates(subset =\"id\", \n",
    "                     keep = False, inplace = True) \n",
    "df.shape"
   ]
  },
  {
   "cell_type": "markdown",
   "metadata": {},
   "source": [
    "### Save the collected POI data as a CSV file"
   ]
  },
  {
   "cell_type": "code",
   "execution_count": 29,
   "metadata": {},
   "outputs": [],
   "source": [
    "df.to_csv(\"Delhi_geo_data.csv\", index=False)"
   ]
  }
 ],
 "metadata": {
  "kernelspec": {
   "display_name": "Python 3",
   "language": "python",
   "name": "python3"
  },
  "language_info": {
   "codemirror_mode": {
    "name": "ipython",
    "version": 3
   },
   "file_extension": ".py",
   "mimetype": "text/x-python",
   "name": "python",
   "nbconvert_exporter": "python",
   "pygments_lexer": "ipython3",
   "version": "3.7.3"
  }
 },
 "nbformat": 4,
 "nbformat_minor": 2
}
